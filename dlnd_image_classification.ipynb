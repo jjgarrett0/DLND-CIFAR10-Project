{
 "cells": [
  {
   "cell_type": "markdown",
   "metadata": {
    "collapsed": true,
    "deletable": true,
    "editable": true
   },
   "source": [
    "# Image Classification\n",
    "In this project, you'll classify images from the [CIFAR-10 dataset](https://www.cs.toronto.edu/~kriz/cifar.html).  The dataset consists of airplanes, dogs, cats, and other objects. You'll preprocess the images, then train a convolutional neural network on all the samples. The images need to be normalized and the labels need to be one-hot encoded.  You'll get to apply what you learned and build a convolutional, max pooling, dropout, and fully connected layers.  At the end, you'll get to see your neural network's predictions on the sample images.\n",
    "## Get the Data\n",
    "Run the following cell to download the [CIFAR-10 dataset for python](https://www.cs.toronto.edu/~kriz/cifar-10-python.tar.gz)."
   ]
  },
  {
   "cell_type": "code",
   "execution_count": 1,
   "metadata": {
    "collapsed": false,
    "deletable": true,
    "editable": true
   },
   "outputs": [
    {
     "name": "stderr",
     "output_type": "stream",
     "text": [
      "CIFAR-10 Dataset: 171MB [00:27, 6.29MB/s]                              \n"
     ]
    },
    {
     "name": "stdout",
     "output_type": "stream",
     "text": [
      "All files found!\n"
     ]
    }
   ],
   "source": [
    "\"\"\"\n",
    "DON'T MODIFY ANYTHING IN THIS CELL THAT IS BELOW THIS LINE\n",
    "\"\"\"\n",
    "from urllib.request import urlretrieve\n",
    "from os.path import isfile, isdir\n",
    "from tqdm import tqdm\n",
    "import problem_unittests as tests\n",
    "import tarfile\n",
    "\n",
    "cifar10_dataset_folder_path = 'cifar-10-batches-py'\n",
    "\n",
    "# Use Floyd's cifar-10 dataset if present\n",
    "floyd_cifar10_location = '/input/cifar-10/python.tar.gz'\n",
    "if isfile(floyd_cifar10_location):\n",
    "    tar_gz_path = floyd_cifar10_location\n",
    "else:\n",
    "    tar_gz_path = 'cifar-10-python.tar.gz'\n",
    "\n",
    "class DLProgress(tqdm):\n",
    "    last_block = 0\n",
    "\n",
    "    def hook(self, block_num=1, block_size=1, total_size=None):\n",
    "        self.total = total_size\n",
    "        self.update((block_num - self.last_block) * block_size)\n",
    "        self.last_block = block_num\n",
    "\n",
    "if not isfile(tar_gz_path):\n",
    "    with DLProgress(unit='B', unit_scale=True, miniters=1, desc='CIFAR-10 Dataset') as pbar:\n",
    "        urlretrieve(\n",
    "            'https://www.cs.toronto.edu/~kriz/cifar-10-python.tar.gz',\n",
    "            tar_gz_path,\n",
    "            pbar.hook)\n",
    "\n",
    "if not isdir(cifar10_dataset_folder_path):\n",
    "    with tarfile.open(tar_gz_path) as tar:\n",
    "        tar.extractall()\n",
    "        tar.close()\n",
    "\n",
    "\n",
    "tests.test_folder_path(cifar10_dataset_folder_path)"
   ]
  },
  {
   "cell_type": "markdown",
   "metadata": {
    "deletable": true,
    "editable": true
   },
   "source": [
    "## Explore the Data\n",
    "The dataset is broken into batches to prevent your machine from running out of memory.  The CIFAR-10 dataset consists of 5 batches, named `data_batch_1`, `data_batch_2`, etc.. Each batch contains the labels and images that are one of the following:\n",
    "* airplane\n",
    "* automobile\n",
    "* bird\n",
    "* cat\n",
    "* deer\n",
    "* dog\n",
    "* frog\n",
    "* horse\n",
    "* ship\n",
    "* truck\n",
    "\n",
    "Understanding a dataset is part of making predictions on the data.  Play around with the code cell below by changing the `batch_id` and `sample_id`. The `batch_id` is the id for a batch (1-5). The `sample_id` is the id for a image and label pair in the batch.\n",
    "\n",
    "Ask yourself \"What are all possible labels?\", \"What is the range of values for the image data?\", \"Are the labels in order or random?\".  Answers to questions like these will help you preprocess the data and end up with better predictions."
   ]
  },
  {
   "cell_type": "code",
   "execution_count": 2,
   "metadata": {
    "collapsed": false,
    "deletable": true,
    "editable": true
   },
   "outputs": [
    {
     "name": "stdout",
     "output_type": "stream",
     "text": [
      "\n",
      "Stats of batch 1:\n",
      "Samples: 10000\n",
      "Label Counts: {0: 1005, 1: 974, 2: 1032, 3: 1016, 4: 999, 5: 937, 6: 1030, 7: 1001, 8: 1025, 9: 981}\n",
      "First 20 Labels: [6, 9, 9, 4, 1, 1, 2, 7, 8, 3, 4, 7, 7, 2, 9, 9, 9, 3, 2, 6]\n",
      "\n",
      "Example of Image 5:\n",
      "Image - Min Value: 0 Max Value: 252\n",
      "Image - Shape: (32, 32, 3)\n",
      "Label - Label Id: 1 Name: automobile\n"
     ]
    },
    {
     "data": {
      "image/png": "[encoded data removed]",
      "text/plain": [
       "<matplotlib.figure.Figure at 0x7fa78da7aef0>"
      ]
     },
     "metadata": {
      "image/png": {
       "height": 250,
       "width": 253
      }
     },
     "output_type": "display_data"
    }
   ],
   "source": [
    "%matplotlib inline\n",
    "%config InlineBackend.figure_format = 'retina'\n",
    "\n",
    "import helper\n",
    "import numpy as np\n",
    "\n",
    "# Explore the dataset\n",
    "batch_id = 1\n",
    "sample_id = 5\n",
    "helper.display_stats(cifar10_dataset_folder_path, batch_id, sample_id)"
   ]
  },
  {
   "cell_type": "markdown",
   "metadata": {
    "deletable": true,
    "editable": true
   },
   "source": [
    "## Implement Preprocess Functions\n",
    "### Normalize\n",
    "In the cell below, implement the `normalize` function to take in image data, `x`, and return it as a normalized Numpy array. The values should be in the range of 0 to 1, inclusive.  The return object should be the same shape as `x`."
   ]
  },
  {
   "cell_type": "code",
   "execution_count": 3,
   "metadata": {
    "collapsed": false,
    "deletable": true,
    "editable": true
   },
   "outputs": [
    {
     "name": "stdout",
     "output_type": "stream",
     "text": [
      "Tests Passed\n"
     ]
    }
   ],
   "source": [
    "def normalize(x):\n",
    "    \"\"\"\n",
    "    Normalize a list of sample image data in the range of 0 to 1\n",
    "    : x: List of image data.  The image shape is (32, 32, 3)\n",
    "    : return: Numpy array of normalize data\n",
    "    \"\"\"\n",
    "    return x/np.max(x, axis = 0) \n",
    "\n",
    "\n",
    "\"\"\"\n",
    "DON'T MODIFY ANYTHING IN THIS CELL THAT IS BELOW THIS LINE\n",
    "\"\"\"\n",
    "tests.test_normalize(normalize)"
   ]
  },
  {
   "cell_type": "markdown",
   "metadata": {
    "deletable": true,
    "editable": true
   },
   "source": [
    "### One-hot encode\n",
    "Just like the previous code cell, you'll be implementing a function for preprocessing.  This time, you'll implement the `one_hot_encode` function. The input, `x`, are a list of labels.  Implement the function to return the list of labels as One-Hot encoded Numpy array.  The possible values for labels are 0 to 9. The one-hot encoding function should return the same encoding for each value between each call to `one_hot_encode`.  Make sure to save the map of encodings outside the function.\n",
    "\n",
    "Hint: Don't reinvent the wheel."
   ]
  },
  {
   "cell_type": "code",
   "execution_count": 4,
   "metadata": {
    "collapsed": false,
    "deletable": true,
    "editable": true
   },
   "outputs": [
    {
     "name": "stdout",
     "output_type": "stream",
     "text": [
      "Tests Passed\n"
     ]
    }
   ],
   "source": [
    "def one_hot_encode(x):\n",
    "    \"\"\"\n",
    "    One hot encode a list of sample labels. Return a one-hot encoded vector for each label.\n",
    "    : x: List of sample Labels\n",
    "    : return: Numpy array of one-hot encoded labels\n",
    "    \"\"\"\n",
    "    b = np.zeros([len(x), 10])\n",
    "    b[np.arange(len(x)), x] = 1\n",
    "    return b\n",
    "\n",
    "\n",
    "\"\"\"\n",
    "DON'T MODIFY ANYTHING IN THIS CELL THAT IS BELOW THIS LINE\n",
    "\"\"\"\n",
    "tests.test_one_hot_encode(one_hot_encode)"
   ]
  },
  {
   "cell_type": "markdown",
   "metadata": {
    "deletable": true,
    "editable": true
   },
   "source": [
    "### Randomize Data\n",
    "As you saw from exploring the data above, the order of the samples are randomized.  It doesn't hurt to randomize it again, but you don't need to for this dataset."
   ]
  },
  {
   "cell_type": "markdown",
   "metadata": {
    "deletable": true,
    "editable": true
   },
   "source": [
    "## Preprocess all the data and save it\n",
    "Running the code cell below will preprocess all the CIFAR-10 data and save it to file. The code below also uses 10% of the training data for validation."
   ]
  },
  {
   "cell_type": "code",
   "execution_count": 5,
   "metadata": {
    "collapsed": true,
    "deletable": true,
    "editable": true
   },
   "outputs": [],
   "source": [
    "\"\"\"\n",
    "DON'T MODIFY ANYTHING IN THIS CELL\n",
    "\"\"\"\n",
    "# Preprocess Training, Validation, and Testing Data\n",
    "helper.preprocess_and_save_data(cifar10_dataset_folder_path, normalize, one_hot_encode)"
   ]
  },
  {
   "cell_type": "markdown",
   "metadata": {
    "deletable": true,
    "editable": true
   },
   "source": [
    "# Check Point\n",
    "This is your first checkpoint.  If you ever decide to come back to this notebook or have to restart the notebook, you can start from here.  The preprocessed data has been saved to disk."
   ]
  },
  {
   "cell_type": "code",
   "execution_count": 2,
   "metadata": {
    "collapsed": true,
    "deletable": true,
    "editable": true
   },
   "outputs": [],
   "source": [
    "\"\"\"\n",
    "DON'T MODIFY ANYTHING IN THIS CELL\n",
    "\"\"\"\n",
    "import pickle\n",
    "import problem_unittests as tests\n",
    "import helper\n",
    "\n",
    "# Load the Preprocessed Validation data\n",
    "valid_features, valid_labels = pickle.load(open('preprocess_validation.p', mode='rb'))"
   ]
  },
  {
   "cell_type": "markdown",
   "metadata": {
    "deletable": true,
    "editable": true
   },
   "source": [
    "## Build the network\n",
    "For the neural network, you'll build each layer into a function.  Most of the code you've seen has been outside of functions. To test your code more thoroughly, we require that you put each layer in a function.  This allows us to give you better feedback and test for simple mistakes using our unittests before you submit your project.\n",
    "\n",
    ">**Note:** If you're finding it hard to dedicate enough time for this course each week, we've provided a small shortcut to this part of the project. In the next couple of problems, you'll have the option to use classes from the [TensorFlow Layers](https://www.tensorflow.org/api_docs/python/tf/layers) or [TensorFlow Layers (contrib)](https://www.tensorflow.org/api_guides/python/contrib.layers) packages to build each layer, except the layers you build in the \"Convolutional and Max Pooling Layer\" section.  TF Layers is similar to Keras's and TFLearn's abstraction to layers, so it's easy to pickup.\n",
    "\n",
    ">However, if you would like to get the most out of this course, try to solve all the problems _without_ using anything from the TF Layers packages. You **can** still use classes from other packages that happen to have the same name as ones you find in TF Layers! For example, instead of using the TF Layers version of the `conv2d` class, [tf.layers.conv2d](https://www.tensorflow.org/api_docs/python/tf/layers/conv2d), you would want to use the TF Neural Network version of `conv2d`, [tf.nn.conv2d](https://www.tensorflow.org/api_docs/python/tf/nn/conv2d). \n",
    "\n",
    "Let's begin!\n",
    "\n",
    "### Input\n",
    "The neural network needs to read the image data, one-hot encoded labels, and dropout keep probability. Implement the following functions\n",
    "* Implement `neural_net_image_input`\n",
    " * Return a [TF Placeholder](https://www.tensorflow.org/api_docs/python/tf/placeholder)\n",
    " * Set the shape using `image_shape` with batch size set to `None`.\n",
    " * Name the TensorFlow placeholder \"x\" using the TensorFlow `name` parameter in the [TF Placeholder](https://www.tensorflow.org/api_docs/python/tf/placeholder).\n",
    "* Implement `neural_net_label_input`\n",
    " * Return a [TF Placeholder](https://www.tensorflow.org/api_docs/python/tf/placeholder)\n",
    " * Set the shape using `n_classes` with batch size set to `None`.\n",
    " * Name the TensorFlow placeholder \"y\" using the TensorFlow `name` parameter in the [TF Placeholder](https://www.tensorflow.org/api_docs/python/tf/placeholder).\n",
    "* Implement `neural_net_keep_prob_input`\n",
    " * Return a [TF Placeholder](https://www.tensorflow.org/api_docs/python/tf/placeholder) for dropout keep probability.\n",
    " * Name the TensorFlow placeholder \"keep_prob\" using the TensorFlow `name` parameter in the [TF Placeholder](https://www.tensorflow.org/api_docs/python/tf/placeholder).\n",
    "\n",
    "These names will be used at the end of the project to load your saved model.\n",
    "\n",
    "Note: `None` for shapes in TensorFlow allow for a dynamic size."
   ]
  },
  {
   "cell_type": "code",
   "execution_count": 3,
   "metadata": {
    "collapsed": false,
    "deletable": true,
    "editable": true
   },
   "outputs": [
    {
     "name": "stdout",
     "output_type": "stream",
     "text": [
      "Image Input Tests Passed.\n",
      "Label Input Tests Passed.\n",
      "Keep Prob Tests Passed.\n"
     ]
    }
   ],
   "source": [
    "import tensorflow as tf\n",
    "\n",
    "def neural_net_image_input(image_shape):\n",
    "    \"\"\"\n",
    "    Return a Tensor for a batch of image input\n",
    "    : image_shape: Shape of the images\n",
    "    : return: Tensor for image input.\n",
    "    \"\"\"\n",
    "    return tf.placeholder(tf.float32, shape=([None, image_shape[0], image_shape[1], image_shape[2]]), name=\"x\")\n",
    "\n",
    "\n",
    "def neural_net_label_input(n_classes):\n",
    "    \"\"\"\n",
    "    Return a Tensor for a batch of label input\n",
    "    : n_classes: Number of classes\n",
    "    : return: Tensor for label input.\n",
    "    \"\"\"\n",
    "    return tf.placeholder(tf.float32, shape=([None, n_classes]), name=\"y\")\n",
    "\n",
    "\n",
    "def neural_net_keep_prob_input():\n",
    "    \"\"\"\n",
    "    Return a Tensor for keep probability\n",
    "    : return: Tensor for keep probability.\n",
    "    \"\"\"\n",
    "    return tf.placeholder(tf.float32, name=\"keep_prob\")\n",
    "\n",
    "\n",
    "\"\"\"\n",
    "DON'T MODIFY ANYTHING IN THIS CELL THAT IS BELOW THIS LINE\n",
    "\"\"\"\n",
    "tf.reset_default_graph()\n",
    "tests.test_nn_image_inputs(neural_net_image_input)\n",
    "tests.test_nn_label_inputs(neural_net_label_input)\n",
    "tests.test_nn_keep_prob_inputs(neural_net_keep_prob_input)"
   ]
  },
  {
   "cell_type": "markdown",
   "metadata": {
    "deletable": true,
    "editable": true
   },
   "source": [
    "### Convolution and Max Pooling Layer\n",
    "Convolution layers have a lot of success with images. For this code cell, you should implement the function `conv2d_maxpool` to apply convolution then max pooling:\n",
    "* Create the weight and bias using `conv_ksize`, `conv_num_outputs` and the shape of `x_tensor`.\n",
    "* Apply a convolution to `x_tensor` using weight and `conv_strides`.\n",
    " * We recommend you use same padding, but you're welcome to use any padding.\n",
    "* Add bias\n",
    "* Add a nonlinear activation to the convolution.\n",
    "* Apply Max Pooling using `pool_ksize` and `pool_strides`.\n",
    " * We recommend you use same padding, but you're welcome to use any padding.\n",
    "\n",
    "**Note:** You **can't** use [TensorFlow Layers](https://www.tensorflow.org/api_docs/python/tf/layers) or [TensorFlow Layers (contrib)](https://www.tensorflow.org/api_guides/python/contrib.layers) for **this** layer, but you can still use TensorFlow's [Neural Network](https://www.tensorflow.org/api_docs/python/tf/nn) package. You may still use the shortcut option for all the **other** layers."
   ]
  },
  {
   "cell_type": "code",
   "execution_count": 4,
   "metadata": {
    "collapsed": false,
    "deletable": true,
    "editable": true
   },
   "outputs": [
    {
     "name": "stdout",
     "output_type": "stream",
     "text": [
      "Tests Passed\n"
     ]
    }
   ],
   "source": [
    "def conv2d_maxpool(x_tensor, conv_num_outputs, conv_ksize, conv_strides, pool_ksize, pool_strides):\n",
    "    \"\"\"\n",
    "    Apply convolution then max pooling to x_tensor\n",
    "    :param x_tensor: TensorFlow Tensor\n",
    "    :param conv_num_outputs: Number of outputs for the convolutional layer\n",
    "    :param conv_ksize: kernal size 2-D Tuple for the convolutional layer\n",
    "    :param conv_strides: Stride 2-D Tuple for convolution\n",
    "    :param pool_ksize: kernal size 2-D Tuple for pool\n",
    "    :param pool_strides: Stride 2-D Tuple for pool\n",
    "    : return: A tensor that represents convolution and max pooling of x_tensor\n",
    "    \"\"\"\n",
    "    #new_height = (input_height - filter_height + 2 * P)/S + 1\n",
    "    #new_width = (input_height - filter_height + 2 * P)/S + 1\n",
    "    \n",
    "    #Weight -> shape = (height, width, input_depth, output_depth)\n",
    "    f_weight = tf.Variable(tf.truncated_normal([conv_ksize[0], conv_ksize[1], \n",
    "                                                x_tensor.get_shape().as_list()[3], conv_num_outputs], stddev=0.01))\n",
    "    #Bias -> Shape = (output depth, )\n",
    "    f_bias = tf.Variable(tf.zeros([conv_num_outputs]))\n",
    "    \n",
    "    #convolution\n",
    "    x = tf.nn.conv2d(x_tensor, f_weight, [1, conv_strides[0], conv_strides[1], 1], 'SAME')\n",
    "    \n",
    "    #Add Bias\n",
    "    x = tf.nn.bias_add(x, f_bias)\n",
    "    \n",
    "    #Add Activation Function\n",
    "    x = tf.nn.relu(x)\n",
    "    \n",
    "    return tf.nn.max_pool(x, [1, pool_ksize[0], pool_ksize[1], 1], [1, pool_strides[0], pool_strides[1], 1], 'SAME')\n",
    "\n",
    "\n",
    "\"\"\"\n",
    "DON'T MODIFY ANYTHING IN THIS CELL THAT IS BELOW THIS LINE\n",
    "\"\"\"\n",
    "tests.test_con_pool(conv2d_maxpool)"
   ]
  },
  {
   "cell_type": "markdown",
   "metadata": {
    "deletable": true,
    "editable": true
   },
   "source": [
    "### Flatten Layer\n",
    "Implement the `flatten` function to change the dimension of `x_tensor` from a 4-D tensor to a 2-D tensor.  The output should be the shape (*Batch Size*, *Flattened Image Size*). Shortcut option: you can use classes from the [TensorFlow Layers](https://www.tensorflow.org/api_docs/python/tf/layers) or [TensorFlow Layers (contrib)](https://www.tensorflow.org/api_guides/python/contrib.layers) packages for this layer. For more of a challenge, only use other TensorFlow packages."
   ]
  },
  {
   "cell_type": "code",
   "execution_count": 5,
   "metadata": {
    "collapsed": false,
    "deletable": true,
    "editable": true
   },
   "outputs": [
    {
     "name": "stdout",
     "output_type": "stream",
     "text": [
      "Tests Passed\n"
     ]
    }
   ],
   "source": [
    "def flatten(x_tensor):\n",
    "    \"\"\"\n",
    "    Flatten x_tensor to (Batch Size, Flattened Image Size)\n",
    "    : x_tensor: A tensor of size (Batch Size, ...), where ... are the image dimensions.\n",
    "    : return: A tensor of size (Batch Size, Flattened Image Size).\n",
    "    \"\"\"\n",
    "    x = x_tensor.get_shape().as_list()\n",
    "    dim_product_x = x[1] * x[2] * x[3]\n",
    "    return tf.reshape(x_tensor, [-1,dim_product_x])\n",
    "\n",
    "\n",
    "\"\"\"\n",
    "DON'T MODIFY ANYTHING IN THIS CELL THAT IS BELOW THIS LINE\n",
    "\"\"\"\n",
    "tests.test_flatten(flatten)"
   ]
  },
  {
   "cell_type": "markdown",
   "metadata": {
    "deletable": true,
    "editable": true
   },
   "source": [
    "### Fully-Connected Layer\n",
    "Implement the `fully_conn` function to apply a fully connected layer to `x_tensor` with the shape (*Batch Size*, *num_outputs*). Shortcut option: you can use classes from the [TensorFlow Layers](https://www.tensorflow.org/api_docs/python/tf/layers) or [TensorFlow Layers (contrib)](https://www.tensorflow.org/api_guides/python/contrib.layers) packages for this layer. For more of a challenge, only use other TensorFlow packages."
   ]
  },
  {
   "cell_type": "code",
   "execution_count": 6,
   "metadata": {
    "collapsed": false,
    "deletable": true,
    "editable": true
   },
   "outputs": [
    {
     "name": "stdout",
     "output_type": "stream",
     "text": [
      "Tests Passed\n"
     ]
    }
   ],
   "source": [
    "def fully_conn(x_tensor, num_outputs):\n",
    "    \"\"\"\n",
    "    Apply a fully connected layer to x_tensor using weight and bias\n",
    "    : x_tensor: A 2-D tensor where the first dimension is batch size.\n",
    "    : num_outputs: The number of output that the new tensor should be.\n",
    "    : return: A 2-D tensor where the second dimension is num_outputs.\n",
    "    \"\"\"\n",
    "    fc = tf.reshape(x_tensor, [-1, x_tensor.get_shape().as_list()[1]])\n",
    "    fc_weight = tf.Variable(tf.random_normal([x_tensor.get_shape().as_list()[1], num_outputs]))\n",
    "    fc_bias = tf.Variable(tf.random_normal([num_outputs]))\n",
    "    fc = tf.nn.bias_add(tf.matmul(fc, fc_weight), fc_bias)\n",
    "    \n",
    "    return tf.nn.relu(fc)\n",
    "\n",
    "\n",
    "\"\"\"\n",
    "DON'T MODIFY ANYTHING IN THIS CELL THAT IS BELOW THIS LINE\n",
    "\"\"\"\n",
    "tests.test_fully_conn(fully_conn)"
   ]
  },
  {
   "cell_type": "markdown",
   "metadata": {
    "deletable": true,
    "editable": true
   },
   "source": [
    "### Output Layer\n",
    "Implement the `output` function to apply a fully connected layer to `x_tensor` with the shape (*Batch Size*, *num_outputs*). Shortcut option: you can use classes from the [TensorFlow Layers](https://www.tensorflow.org/api_docs/python/tf/layers) or [TensorFlow Layers (contrib)](https://www.tensorflow.org/api_guides/python/contrib.layers) packages for this layer. For more of a challenge, only use other TensorFlow packages.\n",
    "\n",
    "**Note:** Activation, softmax, or cross entropy should **not** be applied to this."
   ]
  },
  {
   "cell_type": "code",
   "execution_count": 7,
   "metadata": {
    "collapsed": false,
    "deletable": true,
    "editable": true
   },
   "outputs": [
    {
     "name": "stdout",
     "output_type": "stream",
     "text": [
      "Tests Passed\n"
     ]
    }
   ],
   "source": [
    "def output(x_tensor, num_outputs):\n",
    "    \"\"\"\n",
    "    Apply a output layer to x_tensor using weight and bias\n",
    "    : x_tensor: A 2-D tensor where the first dimension is batch size.\n",
    "    : num_outputs: The number of output that the new tensor should be.\n",
    "    : return: A 2-D tensor where the second dimension is num_outputs.\n",
    "    \"\"\"\n",
    "    # TODO: Implement Function\n",
    "    output = tf.reshape(x_tensor, [-1, x_tensor.get_shape().as_list()[1]])\n",
    "    out_weight = tf.Variable(tf.random_normal([x_tensor.get_shape().as_list()[1], num_outputs]))\n",
    "    out_bias = tf.Variable(tf.random_normal([num_outputs]))\n",
    "    output = tf.nn.bias_add(tf.matmul(output, out_weight), out_bias)\n",
    "    return output\n",
    "\n",
    "\n",
    "\"\"\"\n",
    "DON'T MODIFY ANYTHING IN THIS CELL THAT IS BELOW THIS LINE\n",
    "\"\"\"\n",
    "tests.test_output(output)"
   ]
  },
  {
   "cell_type": "markdown",
   "metadata": {
    "deletable": true,
    "editable": true
   },
   "source": [
    "### Create Convolutional Model\n",
    "Implement the function `conv_net` to create a convolutional neural network model. The function takes in a batch of images, `x`, and outputs logits.  Use the layers you created above to create this model:\n",
    "\n",
    "* Apply 1, 2, or 3 Convolution and Max Pool layers\n",
    "* Apply a Flatten Layer\n",
    "* Apply 1, 2, or 3 Fully Connected Layers\n",
    "* Apply an Output Layer\n",
    "* Return the output\n",
    "* Apply [TensorFlow's Dropout](https://www.tensorflow.org/api_docs/python/tf/nn/dropout) to one or more layers in the model using `keep_prob`. "
   ]
  },
  {
   "cell_type": "code",
   "execution_count": 8,
   "metadata": {
    "collapsed": false,
    "deletable": true,
    "editable": true
   },
   "outputs": [
    {
     "name": "stdout",
     "output_type": "stream",
     "text": [
      "Neural Network Built!\n"
     ]
    }
   ],
   "source": [
    "def conv_net(x, keep_prob):\n",
    "    \"\"\"\n",
    "    Create a convolutional neural network model\n",
    "    : x: Placeholder tensor that holds image data.\n",
    "    : keep_prob: Placeholder tensor that hold dropout keep probability.\n",
    "    : return: Tensor that represents logits\n",
    "    \"\"\"\n",
    "    conv1 = conv2d_maxpool(x, conv_num_outputs=32, conv_ksize=(3,3), conv_strides=(1,1), \n",
    "                       pool_ksize=(2,2), pool_strides=(2,2))\n",
    "    conv2 = conv2d_maxpool(conv1, conv_num_outputs=32, conv_ksize=(3,3), conv_strides=(1,1),\n",
    "                           pool_ksize=(2,2), pool_strides=(2,2))\n",
    "    conv3 = conv2d_maxpool(conv2, conv_num_outputs=64, conv_ksize=(3,3), conv_strides=(1,1),\n",
    "                           pool_ksize=(2,2), pool_strides=(2,2))\n",
    "    flat1 = flatten(conv2)\n",
    "    fc1 = fully_conn(flat1, num_outputs=512)\n",
    "    fc1 = tf.nn.dropout(fc1, keep_prob)\n",
    "    logits = output(fc1, num_outputs=10)\n",
    "    \n",
    "    return logits\n",
    "\"\"\"\n",
    "DON'T MODIFY ANYTHING IN THIS CELL THAT IS BELOW THIS LINE\n",
    "\"\"\"\n",
    "\n",
    "##############################\n",
    "## Build the Neural Network ##\n",
    "##############################\n",
    "\n",
    "# Remove previous weights, bias, inputs, etc..\n",
    "tf.reset_default_graph()\n",
    "\n",
    "# Inputs\n",
    "x = neural_net_image_input((32, 32, 3))\n",
    "y = neural_net_label_input(10)\n",
    "keep_prob = neural_net_keep_prob_input()\n",
    "\n",
    "# Model\n",
    "logits = conv_net(x, keep_prob)\n",
    "\n",
    "# Name logits Tensor, so that is can be loaded from disk after training\n",
    "logits = tf.identity(logits, name='logits')\n",
    "\n",
    "# Loss and Optimizer\n",
    "cost = tf.reduce_mean(tf.nn.softmax_cross_entropy_with_logits(logits=logits, labels=y))\n",
    "optimizer = tf.train.AdamOptimizer().minimize(cost)\n",
    "\n",
    "# Accuracy\n",
    "correct_pred = tf.equal(tf.argmax(logits, 1), tf.argmax(y, 1))\n",
    "accuracy = tf.reduce_mean(tf.cast(correct_pred, tf.float32), name='accuracy')\n",
    "\n",
    "tests.test_conv_net(conv_net)"
   ]
  },
  {
   "cell_type": "markdown",
   "metadata": {
    "deletable": true,
    "editable": true
   },
   "source": [
    "## Train the Neural Network\n",
    "### Single Optimization\n",
    "Implement the function `train_neural_network` to do a single optimization.  The optimization should use `optimizer` to optimize in `session` with a `feed_dict` of the following:\n",
    "* `x` for image input\n",
    "* `y` for labels\n",
    "* `keep_prob` for keep probability for dropout\n",
    "\n",
    "This function will be called for each batch, so `tf.global_variables_initializer()` has already been called.\n",
    "\n",
    "Note: Nothing needs to be returned. This function is only optimizing the neural network."
   ]
  },
  {
   "cell_type": "code",
   "execution_count": 9,
   "metadata": {
    "collapsed": false,
    "deletable": true,
    "editable": true
   },
   "outputs": [
    {
     "name": "stdout",
     "output_type": "stream",
     "text": [
      "Tests Passed\n"
     ]
    }
   ],
   "source": [
    "def train_neural_network(session, optimizer, keep_probability, feature_batch, label_batch):\n",
    "    \"\"\"\n",
    "    Optimize the session on a batch of images and labels\n",
    "    : session: Current TensorFlow session\n",
    "    : optimizer: TensorFlow optimizer function\n",
    "    : keep_probability: keep probability\n",
    "    : feature_batch: Batch of Numpy image data\n",
    "    : label_batch: Batch of Numpy label data\n",
    "    \"\"\"\n",
    "    session.run(optimizer, feed_dict={x: feature_batch, y: label_batch, keep_prob: keep_probability})\n",
    "\n",
    "\n",
    "\"\"\"\n",
    "DON'T MODIFY ANYTHING IN THIS CELL THAT IS BELOW THIS LINE\n",
    "\"\"\"\n",
    "tests.test_train_nn(train_neural_network)"
   ]
  },
  {
   "cell_type": "markdown",
   "metadata": {
    "deletable": true,
    "editable": true
   },
   "source": [
    "### Show Stats\n",
    "Implement the function `print_stats` to print loss and validation accuracy.  Use the global variables `valid_features` and `valid_labels` to calculate validation accuracy.  Use a keep probability of `1.0` to calculate the loss and validation accuracy."
   ]
  },
  {
   "cell_type": "code",
   "execution_count": 10,
   "metadata": {
    "collapsed": true,
    "deletable": true,
    "editable": true
   },
   "outputs": [],
   "source": [
    "def print_stats(session, feature_batch, label_batch, cost, accuracy):\n",
    "    \"\"\"\n",
    "    Print information about loss and validation accuracy\n",
    "    : session: Current TensorFlow session\n",
    "    : feature_batch: Batch of Numpy image data\n",
    "    : label_batch: Batch of Numpy label data\n",
    "    : cost: TensorFlow cost function\n",
    "    : accuracy: TensorFlow accuracy function\n",
    "    \"\"\"\n",
    "    loss = session.run(cost, feed_dict={x: feature_batch, y: label_batch, keep_prob: 1.})\n",
    "    valid_acc = session.run(accuracy, feed_dict={x: valid_features, y: valid_labels, keep_prob: 1.})\n",
    "    \n",
    "    print ('Loss: {:>10.4f} Validation Accuracy: {:.6f}'.format(loss, valid_acc))"
   ]
  },
  {
   "cell_type": "markdown",
   "metadata": {
    "deletable": true,
    "editable": true
   },
   "source": [
    "### Hyperparameters\n",
    "Tune the following parameters:\n",
    "* Set `epochs` to the number of iterations until the network stops learning or start overfitting\n",
    "* Set `batch_size` to the highest number that your machine has memory for.  Most people set them to common sizes of memory:\n",
    " * 64\n",
    " * 128\n",
    " * 256\n",
    " * ...\n",
    "* Set `keep_probability` to the probability of keeping a node using dropout"
   ]
  },
  {
   "cell_type": "code",
   "execution_count": 11,
   "metadata": {
    "collapsed": true,
    "deletable": true,
    "editable": true
   },
   "outputs": [],
   "source": [
    "#Hyperparameters\n",
    "epochs = 75\n",
    "batch_size = 128\n",
    "keep_probability = 0.8"
   ]
  },
  {
   "cell_type": "markdown",
   "metadata": {
    "deletable": true,
    "editable": true
   },
   "source": [
    "### Train on a Single CIFAR-10 Batch\n",
    "Instead of training the neural network on all the CIFAR-10 batches of data, let's use a single batch. This should save time while you iterate on the model to get a better accuracy.  Once the final validation accuracy is 50% or greater, run the model on all the data in the next section."
   ]
  },
  {
   "cell_type": "code",
   "execution_count": 12,
   "metadata": {
    "collapsed": false,
    "deletable": true,
    "editable": true
   },
   "outputs": [
    {
     "name": "stdout",
     "output_type": "stream",
     "text": [
      "Checking the Training on a Single Batch...\n",
      "Epoch  1, CIFAR-10 Batch 1:  Loss:     3.3481 Validation Accuracy: 0.218000\n",
      "Epoch  2, CIFAR-10 Batch 1:  Loss:     3.2068 Validation Accuracy: 0.259600\n",
      "Epoch  3, CIFAR-10 Batch 1:  Loss:     1.9970 Validation Accuracy: 0.293200\n",
      "Epoch  4, CIFAR-10 Batch 1:  Loss:     1.8573 Validation Accuracy: 0.328600\n",
      "Epoch  5, CIFAR-10 Batch 1:  Loss:     1.7693 Validation Accuracy: 0.359800\n",
      "Epoch  6, CIFAR-10 Batch 1:  Loss:     1.6828 Validation Accuracy: 0.378600\n",
      "Epoch  7, CIFAR-10 Batch 1:  Loss:     1.6417 Validation Accuracy: 0.380400\n",
      "Epoch  8, CIFAR-10 Batch 1:  Loss:     1.7123 Validation Accuracy: 0.369000\n",
      "Epoch  9, CIFAR-10 Batch 1:  Loss:     1.5930 Validation Accuracy: 0.395200\n",
      "Epoch 10, CIFAR-10 Batch 1:  Loss:     1.6073 Validation Accuracy: 0.401800\n",
      "Epoch 11, CIFAR-10 Batch 1:  Loss:     1.6274 Validation Accuracy: 0.394600\n",
      "Epoch 12, CIFAR-10 Batch 1:  Loss:     1.5857 Validation Accuracy: 0.409200\n",
      "Epoch 13, CIFAR-10 Batch 1:  Loss:     1.5781 Validation Accuracy: 0.409400\n",
      "Epoch 14, CIFAR-10 Batch 1:  Loss:     1.5491 Validation Accuracy: 0.426000\n",
      "Epoch 15, CIFAR-10 Batch 1:  Loss:     1.4948 Validation Accuracy: 0.430800\n",
      "Epoch 16, CIFAR-10 Batch 1:  Loss:     1.4362 Validation Accuracy: 0.437200\n",
      "Epoch 17, CIFAR-10 Batch 1:  Loss:     1.5298 Validation Accuracy: 0.437000\n",
      "Epoch 18, CIFAR-10 Batch 1:  Loss:     1.4853 Validation Accuracy: 0.444000\n",
      "Epoch 19, CIFAR-10 Batch 1:  Loss:     1.4491 Validation Accuracy: 0.448400\n",
      "Epoch 20, CIFAR-10 Batch 1:  Loss:     1.4382 Validation Accuracy: 0.445000\n",
      "Epoch 21, CIFAR-10 Batch 1:  Loss:     1.5157 Validation Accuracy: 0.459200\n",
      "Epoch 22, CIFAR-10 Batch 1:  Loss:     1.4865 Validation Accuracy: 0.457200\n",
      "Epoch 23, CIFAR-10 Batch 1:  Loss:     1.4841 Validation Accuracy: 0.453400\n",
      "Epoch 24, CIFAR-10 Batch 1:  Loss:     1.4470 Validation Accuracy: 0.447000\n",
      "Epoch 25, CIFAR-10 Batch 1:  Loss:     1.5148 Validation Accuracy: 0.449800\n",
      "Epoch 26, CIFAR-10 Batch 1:  Loss:     1.4705 Validation Accuracy: 0.460000\n",
      "Epoch 27, CIFAR-10 Batch 1:  Loss:     1.3577 Validation Accuracy: 0.475400\n",
      "Epoch 28, CIFAR-10 Batch 1:  Loss:     1.4257 Validation Accuracy: 0.446600\n",
      "Epoch 29, CIFAR-10 Batch 1:  Loss:     1.3552 Validation Accuracy: 0.466400\n",
      "Epoch 30, CIFAR-10 Batch 1:  Loss:     1.4001 Validation Accuracy: 0.459200\n",
      "Epoch 31, CIFAR-10 Batch 1:  Loss:     1.3818 Validation Accuracy: 0.473200\n",
      "Epoch 32, CIFAR-10 Batch 1:  Loss:     1.3284 Validation Accuracy: 0.463000\n",
      "Epoch 33, CIFAR-10 Batch 1:  Loss:     1.3034 Validation Accuracy: 0.480200\n",
      "Epoch 34, CIFAR-10 Batch 1:  Loss:     1.3040 Validation Accuracy: 0.466200\n",
      "Epoch 35, CIFAR-10 Batch 1:  Loss:     1.3094 Validation Accuracy: 0.458000\n",
      "Epoch 36, CIFAR-10 Batch 1:  Loss:     1.2928 Validation Accuracy: 0.470800\n",
      "Epoch 37, CIFAR-10 Batch 1:  Loss:     1.2488 Validation Accuracy: 0.459000\n",
      "Epoch 38, CIFAR-10 Batch 1:  Loss:     1.1895 Validation Accuracy: 0.478600\n",
      "Epoch 39, CIFAR-10 Batch 1:  Loss:     1.2206 Validation Accuracy: 0.477200\n",
      "Epoch 40, CIFAR-10 Batch 1:  Loss:     1.1199 Validation Accuracy: 0.469800\n",
      "Epoch 41, CIFAR-10 Batch 1:  Loss:     1.1644 Validation Accuracy: 0.479000\n",
      "Epoch 42, CIFAR-10 Batch 1:  Loss:     1.1155 Validation Accuracy: 0.475600\n",
      "Epoch 43, CIFAR-10 Batch 1:  Loss:     1.1128 Validation Accuracy: 0.475800\n",
      "Epoch 44, CIFAR-10 Batch 1:  Loss:     1.0641 Validation Accuracy: 0.484000\n",
      "Epoch 45, CIFAR-10 Batch 1:  Loss:     1.0615 Validation Accuracy: 0.482600\n",
      "Epoch 46, CIFAR-10 Batch 1:  Loss:     1.0419 Validation Accuracy: 0.485200\n",
      "Epoch 47, CIFAR-10 Batch 1:  Loss:     0.9843 Validation Accuracy: 0.487800\n",
      "Epoch 48, CIFAR-10 Batch 1:  Loss:     1.0074 Validation Accuracy: 0.483000\n",
      "Epoch 49, CIFAR-10 Batch 1:  Loss:     0.9642 Validation Accuracy: 0.494600\n",
      "Epoch 50, CIFAR-10 Batch 1:  Loss:     0.9299 Validation Accuracy: 0.490400\n",
      "Epoch 51, CIFAR-10 Batch 1:  Loss:     0.8813 Validation Accuracy: 0.496400\n",
      "Epoch 52, CIFAR-10 Batch 1:  Loss:     0.8598 Validation Accuracy: 0.495600\n",
      "Epoch 53, CIFAR-10 Batch 1:  Loss:     0.8561 Validation Accuracy: 0.497600\n",
      "Epoch 54, CIFAR-10 Batch 1:  Loss:     0.9102 Validation Accuracy: 0.490000\n",
      "Epoch 55, CIFAR-10 Batch 1:  Loss:     0.8615 Validation Accuracy: 0.495400\n",
      "Epoch 56, CIFAR-10 Batch 1:  Loss:     0.8238 Validation Accuracy: 0.492600\n",
      "Epoch 57, CIFAR-10 Batch 1:  Loss:     0.8179 Validation Accuracy: 0.491800\n",
      "Epoch 58, CIFAR-10 Batch 1:  Loss:     0.7753 Validation Accuracy: 0.499000\n",
      "Epoch 59, CIFAR-10 Batch 1:  Loss:     0.7508 Validation Accuracy: 0.498000\n",
      "Epoch 60, CIFAR-10 Batch 1:  Loss:     0.7575 Validation Accuracy: 0.498200\n",
      "Epoch 61, CIFAR-10 Batch 1:  Loss:     0.7218 Validation Accuracy: 0.502400\n",
      "Epoch 62, CIFAR-10 Batch 1:  Loss:     0.6864 Validation Accuracy: 0.500200\n",
      "Epoch 63, CIFAR-10 Batch 1:  Loss:     0.6803 Validation Accuracy: 0.492600\n",
      "Epoch 64, CIFAR-10 Batch 1:  Loss:     0.6434 Validation Accuracy: 0.502600\n",
      "Epoch 65, CIFAR-10 Batch 1:  Loss:     0.6628 Validation Accuracy: 0.509400\n",
      "Epoch 66, CIFAR-10 Batch 1:  Loss:     0.6467 Validation Accuracy: 0.509600\n",
      "Epoch 67, CIFAR-10 Batch 1:  Loss:     0.6249 Validation Accuracy: 0.514000\n",
      "Epoch 68, CIFAR-10 Batch 1:  Loss:     0.6457 Validation Accuracy: 0.517800\n",
      "Epoch 69, CIFAR-10 Batch 1:  Loss:     0.5613 Validation Accuracy: 0.509000\n",
      "Epoch 70, CIFAR-10 Batch 1:  Loss:     0.6362 Validation Accuracy: 0.503600\n",
      "Epoch 71, CIFAR-10 Batch 1:  Loss:     0.5606 Validation Accuracy: 0.511000\n",
      "Epoch 72, CIFAR-10 Batch 1:  Loss:     0.5758 Validation Accuracy: 0.499200\n",
      "Epoch 73, CIFAR-10 Batch 1:  Loss:     0.6037 Validation Accuracy: 0.503400\n",
      "Epoch 74, CIFAR-10 Batch 1:  Loss:     0.5602 Validation Accuracy: 0.503200\n",
      "Epoch 75, CIFAR-10 Batch 1:  Loss:     0.5263 Validation Accuracy: 0.509800\n"
     ]
    }
   ],
   "source": [
    "\"\"\"\n",
    "DON'T MODIFY ANYTHING IN THIS CELL\n",
    "\"\"\"\n",
    "print('Checking the Training on a Single Batch...')\n",
    "with tf.Session() as sess:\n",
    "    # Initializing the variables\n",
    "    sess.run(tf.global_variables_initializer())\n",
    "    \n",
    "    # Training cycle\n",
    "    for epoch in range(epochs):\n",
    "        batch_i = 1\n",
    "        for batch_features, batch_labels in helper.load_preprocess_training_batch(batch_i, batch_size):\n",
    "            train_neural_network(sess, optimizer, keep_probability, batch_features, batch_labels)\n",
    "        print('Epoch {:>2}, CIFAR-10 Batch {}:  '.format(epoch + 1, batch_i), end='')\n",
    "        print_stats(sess, batch_features, batch_labels, cost, accuracy)"
   ]
  },
  {
   "cell_type": "markdown",
   "metadata": {
    "deletable": true,
    "editable": true
   },
   "source": [
    "### Fully Train the Model\n",
    "Now that you got a good accuracy with a single CIFAR-10 batch, try it with all five batches."
   ]
  },
  {
   "cell_type": "code",
   "execution_count": 13,
   "metadata": {
    "collapsed": false,
    "deletable": true,
    "editable": true
   },
   "outputs": [
    {
     "name": "stdout",
     "output_type": "stream",
     "text": [
      "Training...\n",
      "Epoch  1, CIFAR-10 Batch 1:  Loss:     3.1062 Validation Accuracy: 0.207400\n",
      "Epoch  1, CIFAR-10 Batch 2:  Loss:     2.8670 Validation Accuracy: 0.239000\n",
      "Epoch  1, CIFAR-10 Batch 3:  Loss:     1.6868 Validation Accuracy: 0.303800\n",
      "Epoch  1, CIFAR-10 Batch 4:  Loss:     1.7516 Validation Accuracy: 0.363200\n",
      "Epoch  1, CIFAR-10 Batch 5:  Loss:     1.9112 Validation Accuracy: 0.375000\n",
      "Epoch  2, CIFAR-10 Batch 1:  Loss:     1.9212 Validation Accuracy: 0.363000\n",
      "Epoch  2, CIFAR-10 Batch 2:  Loss:     1.7632 Validation Accuracy: 0.388000\n",
      "Epoch  2, CIFAR-10 Batch 3:  Loss:     1.5085 Validation Accuracy: 0.380000\n",
      "Epoch  2, CIFAR-10 Batch 4:  Loss:     1.6724 Validation Accuracy: 0.408800\n",
      "Epoch  2, CIFAR-10 Batch 5:  Loss:     1.7865 Validation Accuracy: 0.415800\n",
      "Epoch  3, CIFAR-10 Batch 1:  Loss:     1.7468 Validation Accuracy: 0.415800\n",
      "Epoch  3, CIFAR-10 Batch 2:  Loss:     1.7456 Validation Accuracy: 0.402200\n",
      "Epoch  3, CIFAR-10 Batch 3:  Loss:     1.4346 Validation Accuracy: 0.408400\n",
      "Epoch  3, CIFAR-10 Batch 4:  Loss:     1.5910 Validation Accuracy: 0.426000\n",
      "Epoch  3, CIFAR-10 Batch 5:  Loss:     1.5918 Validation Accuracy: 0.439200\n",
      "Epoch  4, CIFAR-10 Batch 1:  Loss:     1.6385 Validation Accuracy: 0.462000\n",
      "Epoch  4, CIFAR-10 Batch 2:  Loss:     1.5081 Validation Accuracy: 0.445200\n",
      "Epoch  4, CIFAR-10 Batch 3:  Loss:     1.3304 Validation Accuracy: 0.454000\n",
      "Epoch  4, CIFAR-10 Batch 4:  Loss:     1.5009 Validation Accuracy: 0.463000\n",
      "Epoch  4, CIFAR-10 Batch 5:  Loss:     1.5795 Validation Accuracy: 0.455800\n",
      "Epoch  5, CIFAR-10 Batch 1:  Loss:     1.5814 Validation Accuracy: 0.475600\n",
      "Epoch  5, CIFAR-10 Batch 2:  Loss:     1.4447 Validation Accuracy: 0.476200\n",
      "Epoch  5, CIFAR-10 Batch 3:  Loss:     1.2802 Validation Accuracy: 0.462000\n",
      "Epoch  5, CIFAR-10 Batch 4:  Loss:     1.4201 Validation Accuracy: 0.455600\n",
      "Epoch  5, CIFAR-10 Batch 5:  Loss:     1.5484 Validation Accuracy: 0.487600\n",
      "Epoch  6, CIFAR-10 Batch 1:  Loss:     1.6230 Validation Accuracy: 0.476600\n",
      "Epoch  6, CIFAR-10 Batch 2:  Loss:     1.3439 Validation Accuracy: 0.493800\n",
      "Epoch  6, CIFAR-10 Batch 3:  Loss:     1.1974 Validation Accuracy: 0.489600\n",
      "Epoch  6, CIFAR-10 Batch 4:  Loss:     1.3565 Validation Accuracy: 0.482800\n",
      "Epoch  6, CIFAR-10 Batch 5:  Loss:     1.5000 Validation Accuracy: 0.490000\n",
      "Epoch  7, CIFAR-10 Batch 1:  Loss:     1.6005 Validation Accuracy: 0.494800\n",
      "Epoch  7, CIFAR-10 Batch 2:  Loss:     1.2547 Validation Accuracy: 0.515800\n",
      "Epoch  7, CIFAR-10 Batch 3:  Loss:     1.0756 Validation Accuracy: 0.508800\n",
      "Epoch  7, CIFAR-10 Batch 4:  Loss:     1.1352 Validation Accuracy: 0.503400\n",
      "Epoch  7, CIFAR-10 Batch 5:  Loss:     1.4037 Validation Accuracy: 0.513000\n",
      "Epoch  8, CIFAR-10 Batch 1:  Loss:     1.5267 Validation Accuracy: 0.512200\n",
      "Epoch  8, CIFAR-10 Batch 2:  Loss:     1.3072 Validation Accuracy: 0.509800\n",
      "Epoch  8, CIFAR-10 Batch 3:  Loss:     0.9878 Validation Accuracy: 0.518600\n",
      "Epoch  8, CIFAR-10 Batch 4:  Loss:     1.1077 Validation Accuracy: 0.519400\n",
      "Epoch  8, CIFAR-10 Batch 5:  Loss:     1.4103 Validation Accuracy: 0.515600\n",
      "Epoch  9, CIFAR-10 Batch 1:  Loss:     1.4256 Validation Accuracy: 0.520600\n",
      "Epoch  9, CIFAR-10 Batch 2:  Loss:     1.2565 Validation Accuracy: 0.522800\n",
      "Epoch  9, CIFAR-10 Batch 3:  Loss:     0.9860 Validation Accuracy: 0.525800\n",
      "Epoch  9, CIFAR-10 Batch 4:  Loss:     1.0967 Validation Accuracy: 0.541000\n",
      "Epoch  9, CIFAR-10 Batch 5:  Loss:     1.3260 Validation Accuracy: 0.539000\n",
      "Epoch 10, CIFAR-10 Batch 1:  Loss:     1.3065 Validation Accuracy: 0.537000\n",
      "Epoch 10, CIFAR-10 Batch 2:  Loss:     1.2343 Validation Accuracy: 0.530800\n",
      "Epoch 10, CIFAR-10 Batch 3:  Loss:     0.9975 Validation Accuracy: 0.540800\n",
      "Epoch 10, CIFAR-10 Batch 4:  Loss:     1.0662 Validation Accuracy: 0.529000\n",
      "Epoch 10, CIFAR-10 Batch 5:  Loss:     1.3488 Validation Accuracy: 0.539800\n",
      "Epoch 11, CIFAR-10 Batch 1:  Loss:     1.3957 Validation Accuracy: 0.538600\n",
      "Epoch 11, CIFAR-10 Batch 2:  Loss:     1.1313 Validation Accuracy: 0.548000\n",
      "Epoch 11, CIFAR-10 Batch 3:  Loss:     0.9710 Validation Accuracy: 0.538200\n",
      "Epoch 11, CIFAR-10 Batch 4:  Loss:     1.0128 Validation Accuracy: 0.547800\n",
      "Epoch 11, CIFAR-10 Batch 5:  Loss:     1.2591 Validation Accuracy: 0.553000\n",
      "Epoch 12, CIFAR-10 Batch 1:  Loss:     1.3102 Validation Accuracy: 0.531400\n",
      "Epoch 12, CIFAR-10 Batch 2:  Loss:     1.0944 Validation Accuracy: 0.549800\n",
      "Epoch 12, CIFAR-10 Batch 3:  Loss:     0.9145 Validation Accuracy: 0.549600\n",
      "Epoch 12, CIFAR-10 Batch 4:  Loss:     1.0000 Validation Accuracy: 0.545000\n",
      "Epoch 12, CIFAR-10 Batch 5:  Loss:     1.1946 Validation Accuracy: 0.563200\n",
      "Epoch 13, CIFAR-10 Batch 1:  Loss:     1.3020 Validation Accuracy: 0.546800\n",
      "Epoch 13, CIFAR-10 Batch 2:  Loss:     1.1070 Validation Accuracy: 0.552200\n",
      "Epoch 13, CIFAR-10 Batch 3:  Loss:     0.7942 Validation Accuracy: 0.555400\n",
      "Epoch 13, CIFAR-10 Batch 4:  Loss:     0.9574 Validation Accuracy: 0.546600\n",
      "Epoch 13, CIFAR-10 Batch 5:  Loss:     1.2316 Validation Accuracy: 0.569600\n",
      "Epoch 14, CIFAR-10 Batch 1:  Loss:     1.2813 Validation Accuracy: 0.556800\n",
      "Epoch 14, CIFAR-10 Batch 2:  Loss:     0.9889 Validation Accuracy: 0.568400\n",
      "Epoch 14, CIFAR-10 Batch 3:  Loss:     0.8511 Validation Accuracy: 0.563400\n",
      "Epoch 14, CIFAR-10 Batch 4:  Loss:     0.8951 Validation Accuracy: 0.559600\n",
      "Epoch 14, CIFAR-10 Batch 5:  Loss:     1.2201 Validation Accuracy: 0.571600\n",
      "Epoch 15, CIFAR-10 Batch 1:  Loss:     1.1509 Validation Accuracy: 0.575400\n",
      "Epoch 15, CIFAR-10 Batch 2:  Loss:     0.9656 Validation Accuracy: 0.566000\n",
      "Epoch 15, CIFAR-10 Batch 3:  Loss:     0.8000 Validation Accuracy: 0.560800\n",
      "Epoch 15, CIFAR-10 Batch 4:  Loss:     0.9131 Validation Accuracy: 0.573000\n",
      "Epoch 15, CIFAR-10 Batch 5:  Loss:     1.1762 Validation Accuracy: 0.567400\n",
      "Epoch 16, CIFAR-10 Batch 1:  Loss:     1.2080 Validation Accuracy: 0.558800\n",
      "Epoch 16, CIFAR-10 Batch 2:  Loss:     1.0192 Validation Accuracy: 0.571000\n",
      "Epoch 16, CIFAR-10 Batch 3:  Loss:     0.7560 Validation Accuracy: 0.563200\n",
      "Epoch 16, CIFAR-10 Batch 4:  Loss:     0.8519 Validation Accuracy: 0.580000\n",
      "Epoch 16, CIFAR-10 Batch 5:  Loss:     1.0652 Validation Accuracy: 0.585600\n",
      "Epoch 17, CIFAR-10 Batch 1:  Loss:     1.1077 Validation Accuracy: 0.577000\n",
      "Epoch 17, CIFAR-10 Batch 2:  Loss:     0.9453 Validation Accuracy: 0.573400\n",
      "Epoch 17, CIFAR-10 Batch 3:  Loss:     0.6806 Validation Accuracy: 0.572000\n",
      "Epoch 17, CIFAR-10 Batch 4:  Loss:     0.8152 Validation Accuracy: 0.579200\n",
      "Epoch 17, CIFAR-10 Batch 5:  Loss:     1.1009 Validation Accuracy: 0.582400\n",
      "Epoch 18, CIFAR-10 Batch 1:  Loss:     1.1677 Validation Accuracy: 0.565600\n",
      "Epoch 18, CIFAR-10 Batch 2:  Loss:     0.9276 Validation Accuracy: 0.580200\n",
      "Epoch 18, CIFAR-10 Batch 3:  Loss:     0.7151 Validation Accuracy: 0.574200\n",
      "Epoch 18, CIFAR-10 Batch 4:  Loss:     0.8074 Validation Accuracy: 0.591400\n",
      "Epoch 18, CIFAR-10 Batch 5:  Loss:     1.0960 Validation Accuracy: 0.589800\n",
      "Epoch 19, CIFAR-10 Batch 1:  Loss:     1.0794 Validation Accuracy: 0.579600\n",
      "Epoch 19, CIFAR-10 Batch 2:  Loss:     0.8769 Validation Accuracy: 0.592200\n",
      "Epoch 19, CIFAR-10 Batch 3:  Loss:     0.6931 Validation Accuracy: 0.583000\n",
      "Epoch 19, CIFAR-10 Batch 4:  Loss:     0.7948 Validation Accuracy: 0.588000\n",
      "Epoch 19, CIFAR-10 Batch 5:  Loss:     1.0301 Validation Accuracy: 0.582600\n",
      "Epoch 20, CIFAR-10 Batch 1:  Loss:     1.0509 Validation Accuracy: 0.588200\n",
      "Epoch 20, CIFAR-10 Batch 2:  Loss:     0.8747 Validation Accuracy: 0.588000\n",
      "Epoch 20, CIFAR-10 Batch 3:  Loss:     0.6506 Validation Accuracy: 0.572400\n",
      "Epoch 20, CIFAR-10 Batch 4:  Loss:     0.7504 Validation Accuracy: 0.581600\n",
      "Epoch 20, CIFAR-10 Batch 5:  Loss:     0.9790 Validation Accuracy: 0.592800\n",
      "Epoch 21, CIFAR-10 Batch 1:  Loss:     1.0415 Validation Accuracy: 0.590200\n",
      "Epoch 21, CIFAR-10 Batch 2:  Loss:     0.8611 Validation Accuracy: 0.588800\n",
      "Epoch 21, CIFAR-10 Batch 3:  Loss:     0.5427 Validation Accuracy: 0.604200\n",
      "Epoch 21, CIFAR-10 Batch 4:  Loss:     0.7100 Validation Accuracy: 0.594600\n",
      "Epoch 21, CIFAR-10 Batch 5:  Loss:     0.8980 Validation Accuracy: 0.595200\n",
      "Epoch 22, CIFAR-10 Batch 1:  Loss:     1.0195 Validation Accuracy: 0.589400\n",
      "Epoch 22, CIFAR-10 Batch 2:  Loss:     0.8663 Validation Accuracy: 0.590800\n",
      "Epoch 22, CIFAR-10 Batch 3:  Loss:     0.5751 Validation Accuracy: 0.591200\n",
      "Epoch 22, CIFAR-10 Batch 4:  Loss:     0.7255 Validation Accuracy: 0.592600\n",
      "Epoch 22, CIFAR-10 Batch 5:  Loss:     0.8869 Validation Accuracy: 0.604400\n",
      "Epoch 23, CIFAR-10 Batch 1:  Loss:     0.9327 Validation Accuracy: 0.594600\n",
      "Epoch 23, CIFAR-10 Batch 2:  Loss:     0.7500 Validation Accuracy: 0.604400\n",
      "Epoch 23, CIFAR-10 Batch 3:  Loss:     0.6028 Validation Accuracy: 0.589800\n",
      "Epoch 23, CIFAR-10 Batch 4:  Loss:     0.7052 Validation Accuracy: 0.593200\n",
      "Epoch 23, CIFAR-10 Batch 5:  Loss:     0.9258 Validation Accuracy: 0.609400\n",
      "Epoch 24, CIFAR-10 Batch 1:  Loss:     0.8944 Validation Accuracy: 0.592400\n",
      "Epoch 24, CIFAR-10 Batch 2:  Loss:     0.7275 Validation Accuracy: 0.601400\n",
      "Epoch 24, CIFAR-10 Batch 3:  Loss:     0.5271 Validation Accuracy: 0.610200\n",
      "Epoch 24, CIFAR-10 Batch 4:  Loss:     0.6976 Validation Accuracy: 0.579800\n",
      "Epoch 24, CIFAR-10 Batch 5:  Loss:     0.8580 Validation Accuracy: 0.589200\n",
      "Epoch 25, CIFAR-10 Batch 1:  Loss:     0.8845 Validation Accuracy: 0.595600\n",
      "Epoch 25, CIFAR-10 Batch 2:  Loss:     0.7330 Validation Accuracy: 0.600800\n",
      "Epoch 25, CIFAR-10 Batch 3:  Loss:     0.5233 Validation Accuracy: 0.593000\n",
      "Epoch 25, CIFAR-10 Batch 4:  Loss:     0.6781 Validation Accuracy: 0.592600\n",
      "Epoch 25, CIFAR-10 Batch 5:  Loss:     0.8186 Validation Accuracy: 0.596800\n",
      "Epoch 26, CIFAR-10 Batch 1:  Loss:     0.8692 Validation Accuracy: 0.609000\n",
      "Epoch 26, CIFAR-10 Batch 2:  Loss:     0.6988 Validation Accuracy: 0.610600\n",
      "Epoch 26, CIFAR-10 Batch 3:  Loss:     0.5070 Validation Accuracy: 0.611200\n",
      "Epoch 26, CIFAR-10 Batch 4:  Loss:     0.6940 Validation Accuracy: 0.594400\n",
      "Epoch 26, CIFAR-10 Batch 5:  Loss:     0.8360 Validation Accuracy: 0.600000\n",
      "Epoch 27, CIFAR-10 Batch 1:  Loss:     0.8240 Validation Accuracy: 0.604400\n",
      "Epoch 27, CIFAR-10 Batch 2:  Loss:     0.6132 Validation Accuracy: 0.608400\n",
      "Epoch 27, CIFAR-10 Batch 3:  Loss:     0.4596 Validation Accuracy: 0.607200\n",
      "Epoch 27, CIFAR-10 Batch 4:  Loss:     0.7041 Validation Accuracy: 0.592400\n",
      "Epoch 27, CIFAR-10 Batch 5:  Loss:     0.7395 Validation Accuracy: 0.613000\n",
      "Epoch 28, CIFAR-10 Batch 1:  Loss:     0.7910 Validation Accuracy: 0.614200\n",
      "Epoch 28, CIFAR-10 Batch 2:  Loss:     0.6278 Validation Accuracy: 0.618400\n",
      "Epoch 28, CIFAR-10 Batch 3:  Loss:     0.4568 Validation Accuracy: 0.603400\n",
      "Epoch 28, CIFAR-10 Batch 4:  Loss:     0.6403 Validation Accuracy: 0.612600\n",
      "Epoch 28, CIFAR-10 Batch 5:  Loss:     0.7351 Validation Accuracy: 0.618200\n",
      "Epoch 29, CIFAR-10 Batch 1:  Loss:     0.8276 Validation Accuracy: 0.613800\n",
      "Epoch 29, CIFAR-10 Batch 2:  Loss:     0.6415 Validation Accuracy: 0.617400\n",
      "Epoch 29, CIFAR-10 Batch 3:  Loss:     0.4381 Validation Accuracy: 0.617400\n",
      "Epoch 29, CIFAR-10 Batch 4:  Loss:     0.6133 Validation Accuracy: 0.601600\n",
      "Epoch 29, CIFAR-10 Batch 5:  Loss:     0.7425 Validation Accuracy: 0.614600\n",
      "Epoch 30, CIFAR-10 Batch 1:  Loss:     0.8105 Validation Accuracy: 0.617200\n",
      "Epoch 30, CIFAR-10 Batch 2:  Loss:     0.5784 Validation Accuracy: 0.618600\n",
      "Epoch 30, CIFAR-10 Batch 3:  Loss:     0.4340 Validation Accuracy: 0.620200\n",
      "Epoch 30, CIFAR-10 Batch 4:  Loss:     0.6250 Validation Accuracy: 0.605800\n",
      "Epoch 30, CIFAR-10 Batch 5:  Loss:     0.6559 Validation Accuracy: 0.617200\n",
      "Epoch 31, CIFAR-10 Batch 1:  Loss:     0.8030 Validation Accuracy: 0.621400\n",
      "Epoch 31, CIFAR-10 Batch 2:  Loss:     0.5676 Validation Accuracy: 0.629000\n",
      "Epoch 31, CIFAR-10 Batch 3:  Loss:     0.4555 Validation Accuracy: 0.611000\n",
      "Epoch 31, CIFAR-10 Batch 4:  Loss:     0.6424 Validation Accuracy: 0.618000\n",
      "Epoch 31, CIFAR-10 Batch 5:  Loss:     0.6477 Validation Accuracy: 0.621200\n",
      "Epoch 32, CIFAR-10 Batch 1:  Loss:     0.7640 Validation Accuracy: 0.622400\n",
      "Epoch 32, CIFAR-10 Batch 2:  Loss:     0.5390 Validation Accuracy: 0.618600\n",
      "Epoch 32, CIFAR-10 Batch 3:  Loss:     0.4061 Validation Accuracy: 0.613000\n",
      "Epoch 32, CIFAR-10 Batch 4:  Loss:     0.6271 Validation Accuracy: 0.617600\n",
      "Epoch 32, CIFAR-10 Batch 5:  Loss:     0.6397 Validation Accuracy: 0.627600\n",
      "Epoch 33, CIFAR-10 Batch 1:  Loss:     0.7365 Validation Accuracy: 0.629800\n",
      "Epoch 33, CIFAR-10 Batch 2:  Loss:     0.5054 Validation Accuracy: 0.616600\n",
      "Epoch 33, CIFAR-10 Batch 3:  Loss:     0.4134 Validation Accuracy: 0.615600\n",
      "Epoch 33, CIFAR-10 Batch 4:  Loss:     0.5799 Validation Accuracy: 0.615000\n",
      "Epoch 33, CIFAR-10 Batch 5:  Loss:     0.5941 Validation Accuracy: 0.629200\n",
      "Epoch 34, CIFAR-10 Batch 1:  Loss:     0.7130 Validation Accuracy: 0.620600\n",
      "Epoch 34, CIFAR-10 Batch 2:  Loss:     0.4789 Validation Accuracy: 0.632000\n",
      "Epoch 34, CIFAR-10 Batch 3:  Loss:     0.3621 Validation Accuracy: 0.618400\n",
      "Epoch 34, CIFAR-10 Batch 4:  Loss:     0.6054 Validation Accuracy: 0.625400\n",
      "Epoch 34, CIFAR-10 Batch 5:  Loss:     0.5561 Validation Accuracy: 0.635200\n",
      "Epoch 35, CIFAR-10 Batch 1:  Loss:     0.7545 Validation Accuracy: 0.616600\n",
      "Epoch 35, CIFAR-10 Batch 2:  Loss:     0.4462 Validation Accuracy: 0.633400\n",
      "Epoch 35, CIFAR-10 Batch 3:  Loss:     0.3801 Validation Accuracy: 0.619200\n",
      "Epoch 35, CIFAR-10 Batch 4:  Loss:     0.5650 Validation Accuracy: 0.623000\n",
      "Epoch 35, CIFAR-10 Batch 5:  Loss:     0.5700 Validation Accuracy: 0.619600\n",
      "Epoch 36, CIFAR-10 Batch 1:  Loss:     0.6802 Validation Accuracy: 0.620200\n",
      "Epoch 36, CIFAR-10 Batch 2:  Loss:     0.4110 Validation Accuracy: 0.625600\n",
      "Epoch 36, CIFAR-10 Batch 3:  Loss:     0.3777 Validation Accuracy: 0.609000\n",
      "Epoch 36, CIFAR-10 Batch 4:  Loss:     0.5437 Validation Accuracy: 0.619000\n",
      "Epoch 36, CIFAR-10 Batch 5:  Loss:     0.5448 Validation Accuracy: 0.634400\n",
      "Epoch 37, CIFAR-10 Batch 1:  Loss:     0.6542 Validation Accuracy: 0.624000\n",
      "Epoch 37, CIFAR-10 Batch 2:  Loss:     0.3731 Validation Accuracy: 0.631800\n",
      "Epoch 37, CIFAR-10 Batch 3:  Loss:     0.4008 Validation Accuracy: 0.593600\n",
      "Epoch 37, CIFAR-10 Batch 4:  Loss:     0.5604 Validation Accuracy: 0.619800\n",
      "Epoch 37, CIFAR-10 Batch 5:  Loss:     0.5165 Validation Accuracy: 0.634000\n",
      "Epoch 38, CIFAR-10 Batch 1:  Loss:     0.6225 Validation Accuracy: 0.619400\n",
      "Epoch 38, CIFAR-10 Batch 2:  Loss:     0.3750 Validation Accuracy: 0.633400\n",
      "Epoch 38, CIFAR-10 Batch 3:  Loss:     0.3723 Validation Accuracy: 0.618400\n",
      "Epoch 38, CIFAR-10 Batch 4:  Loss:     0.5457 Validation Accuracy: 0.627000\n",
      "Epoch 38, CIFAR-10 Batch 5:  Loss:     0.4783 Validation Accuracy: 0.635600\n",
      "Epoch 39, CIFAR-10 Batch 1:  Loss:     0.5933 Validation Accuracy: 0.626400\n",
      "Epoch 39, CIFAR-10 Batch 2:  Loss:     0.3279 Validation Accuracy: 0.638000\n",
      "Epoch 39, CIFAR-10 Batch 3:  Loss:     0.3395 Validation Accuracy: 0.606400\n",
      "Epoch 39, CIFAR-10 Batch 4:  Loss:     0.4757 Validation Accuracy: 0.628600\n",
      "Epoch 39, CIFAR-10 Batch 5:  Loss:     0.4405 Validation Accuracy: 0.638600\n",
      "Epoch 40, CIFAR-10 Batch 1:  Loss:     0.5270 Validation Accuracy: 0.630800\n",
      "Epoch 40, CIFAR-10 Batch 2:  Loss:     0.3030 Validation Accuracy: 0.633400\n",
      "Epoch 40, CIFAR-10 Batch 3:  Loss:     0.3481 Validation Accuracy: 0.612200\n",
      "Epoch 40, CIFAR-10 Batch 4:  Loss:     0.5104 Validation Accuracy: 0.620600\n",
      "Epoch 40, CIFAR-10 Batch 5:  Loss:     0.4356 Validation Accuracy: 0.621600\n",
      "Epoch 41, CIFAR-10 Batch 1:  Loss:     0.5405 Validation Accuracy: 0.629600\n",
      "Epoch 41, CIFAR-10 Batch 2:  Loss:     0.2679 Validation Accuracy: 0.634600\n",
      "Epoch 41, CIFAR-10 Batch 3:  Loss:     0.3057 Validation Accuracy: 0.606800\n",
      "Epoch 41, CIFAR-10 Batch 4:  Loss:     0.4710 Validation Accuracy: 0.625200\n",
      "Epoch 41, CIFAR-10 Batch 5:  Loss:     0.3799 Validation Accuracy: 0.635800\n",
      "Epoch 42, CIFAR-10 Batch 1:  Loss:     0.5708 Validation Accuracy: 0.623800\n",
      "Epoch 42, CIFAR-10 Batch 2:  Loss:     0.2877 Validation Accuracy: 0.636000\n",
      "Epoch 42, CIFAR-10 Batch 3:  Loss:     0.3420 Validation Accuracy: 0.603200\n",
      "Epoch 42, CIFAR-10 Batch 4:  Loss:     0.4488 Validation Accuracy: 0.621400\n",
      "Epoch 42, CIFAR-10 Batch 5:  Loss:     0.4078 Validation Accuracy: 0.622400\n",
      "Epoch 43, CIFAR-10 Batch 1:  Loss:     0.5448 Validation Accuracy: 0.620800\n",
      "Epoch 43, CIFAR-10 Batch 2:  Loss:     0.2921 Validation Accuracy: 0.631800\n",
      "Epoch 43, CIFAR-10 Batch 3:  Loss:     0.2778 Validation Accuracy: 0.612000\n",
      "Epoch 43, CIFAR-10 Batch 4:  Loss:     0.4478 Validation Accuracy: 0.615400\n",
      "Epoch 43, CIFAR-10 Batch 5:  Loss:     0.3839 Validation Accuracy: 0.630400\n",
      "Epoch 44, CIFAR-10 Batch 1:  Loss:     0.5147 Validation Accuracy: 0.630000\n",
      "Epoch 44, CIFAR-10 Batch 2:  Loss:     0.2541 Validation Accuracy: 0.634800\n",
      "Epoch 44, CIFAR-10 Batch 3:  Loss:     0.2845 Validation Accuracy: 0.614400\n",
      "Epoch 44, CIFAR-10 Batch 4:  Loss:     0.4629 Validation Accuracy: 0.616600\n",
      "Epoch 44, CIFAR-10 Batch 5:  Loss:     0.3643 Validation Accuracy: 0.621000\n",
      "Epoch 45, CIFAR-10 Batch 1:  Loss:     0.5117 Validation Accuracy: 0.628400\n",
      "Epoch 45, CIFAR-10 Batch 2:  Loss:     0.2851 Validation Accuracy: 0.632200\n",
      "Epoch 45, CIFAR-10 Batch 3:  Loss:     0.2464 Validation Accuracy: 0.626400\n",
      "Epoch 45, CIFAR-10 Batch 4:  Loss:     0.4414 Validation Accuracy: 0.608800\n",
      "Epoch 45, CIFAR-10 Batch 5:  Loss:     0.3612 Validation Accuracy: 0.600800\n",
      "Epoch 46, CIFAR-10 Batch 1:  Loss:     0.4898 Validation Accuracy: 0.633600\n",
      "Epoch 46, CIFAR-10 Batch 2:  Loss:     0.2623 Validation Accuracy: 0.643800\n",
      "Epoch 46, CIFAR-10 Batch 3:  Loss:     0.2417 Validation Accuracy: 0.628000\n",
      "Epoch 46, CIFAR-10 Batch 4:  Loss:     0.3830 Validation Accuracy: 0.622400\n",
      "Epoch 46, CIFAR-10 Batch 5:  Loss:     0.3284 Validation Accuracy: 0.611200\n",
      "Epoch 47, CIFAR-10 Batch 1:  Loss:     0.4263 Validation Accuracy: 0.620000\n",
      "Epoch 47, CIFAR-10 Batch 2:  Loss:     0.1983 Validation Accuracy: 0.642200\n",
      "Epoch 47, CIFAR-10 Batch 3:  Loss:     0.2749 Validation Accuracy: 0.623200\n",
      "Epoch 47, CIFAR-10 Batch 4:  Loss:     0.3852 Validation Accuracy: 0.620400\n",
      "Epoch 47, CIFAR-10 Batch 5:  Loss:     0.3502 Validation Accuracy: 0.608200\n",
      "Epoch 48, CIFAR-10 Batch 1:  Loss:     0.4456 Validation Accuracy: 0.638000\n",
      "Epoch 48, CIFAR-10 Batch 2:  Loss:     0.1935 Validation Accuracy: 0.635800\n",
      "Epoch 48, CIFAR-10 Batch 3:  Loss:     0.2440 Validation Accuracy: 0.623800\n",
      "Epoch 48, CIFAR-10 Batch 4:  Loss:     0.3817 Validation Accuracy: 0.615000\n",
      "Epoch 48, CIFAR-10 Batch 5:  Loss:     0.3223 Validation Accuracy: 0.620200\n",
      "Epoch 49, CIFAR-10 Batch 1:  Loss:     0.4171 Validation Accuracy: 0.635800\n",
      "Epoch 49, CIFAR-10 Batch 2:  Loss:     0.1990 Validation Accuracy: 0.626200\n",
      "Epoch 49, CIFAR-10 Batch 3:  Loss:     0.2426 Validation Accuracy: 0.625800\n",
      "Epoch 49, CIFAR-10 Batch 4:  Loss:     0.3724 Validation Accuracy: 0.616200\n",
      "Epoch 49, CIFAR-10 Batch 5:  Loss:     0.3603 Validation Accuracy: 0.617000\n",
      "Epoch 50, CIFAR-10 Batch 1:  Loss:     0.4578 Validation Accuracy: 0.630800\n",
      "Epoch 50, CIFAR-10 Batch 2:  Loss:     0.1947 Validation Accuracy: 0.630000\n",
      "Epoch 50, CIFAR-10 Batch 3:  Loss:     0.2731 Validation Accuracy: 0.626200\n",
      "Epoch 50, CIFAR-10 Batch 4:  Loss:     0.3912 Validation Accuracy: 0.630000\n",
      "Epoch 50, CIFAR-10 Batch 5:  Loss:     0.3235 Validation Accuracy: 0.601400\n",
      "Epoch 51, CIFAR-10 Batch 1:  Loss:     0.3831 Validation Accuracy: 0.636000\n",
      "Epoch 51, CIFAR-10 Batch 2:  Loss:     0.1722 Validation Accuracy: 0.629400\n",
      "Epoch 51, CIFAR-10 Batch 3:  Loss:     0.2537 Validation Accuracy: 0.622000\n",
      "Epoch 51, CIFAR-10 Batch 4:  Loss:     0.4432 Validation Accuracy: 0.611200\n",
      "Epoch 51, CIFAR-10 Batch 5:  Loss:     0.3758 Validation Accuracy: 0.596600\n",
      "Epoch 52, CIFAR-10 Batch 1:  Loss:     0.4210 Validation Accuracy: 0.638000\n",
      "Epoch 52, CIFAR-10 Batch 2:  Loss:     0.1786 Validation Accuracy: 0.626600\n",
      "Epoch 52, CIFAR-10 Batch 3:  Loss:     0.2310 Validation Accuracy: 0.621800\n",
      "Epoch 52, CIFAR-10 Batch 4:  Loss:     0.4627 Validation Accuracy: 0.614600\n",
      "Epoch 52, CIFAR-10 Batch 5:  Loss:     0.3157 Validation Accuracy: 0.612800\n",
      "Epoch 53, CIFAR-10 Batch 1:  Loss:     0.3126 Validation Accuracy: 0.625200\n",
      "Epoch 53, CIFAR-10 Batch 2:  Loss:     0.1990 Validation Accuracy: 0.615400\n",
      "Epoch 53, CIFAR-10 Batch 3:  Loss:     0.2771 Validation Accuracy: 0.616800\n",
      "Epoch 53, CIFAR-10 Batch 4:  Loss:     0.3674 Validation Accuracy: 0.616600\n",
      "Epoch 53, CIFAR-10 Batch 5:  Loss:     0.2931 Validation Accuracy: 0.611200\n",
      "Epoch 54, CIFAR-10 Batch 1:  Loss:     0.3582 Validation Accuracy: 0.627000\n",
      "Epoch 54, CIFAR-10 Batch 2:  Loss:     0.1687 Validation Accuracy: 0.627400\n",
      "Epoch 54, CIFAR-10 Batch 3:  Loss:     0.2204 Validation Accuracy: 0.629200\n",
      "Epoch 54, CIFAR-10 Batch 4:  Loss:     0.3162 Validation Accuracy: 0.623800\n",
      "Epoch 54, CIFAR-10 Batch 5:  Loss:     0.2944 Validation Accuracy: 0.609600\n",
      "Epoch 55, CIFAR-10 Batch 1:  Loss:     0.3255 Validation Accuracy: 0.629400\n",
      "Epoch 55, CIFAR-10 Batch 2:  Loss:     0.1741 Validation Accuracy: 0.634200\n",
      "Epoch 55, CIFAR-10 Batch 3:  Loss:     0.2229 Validation Accuracy: 0.623400\n",
      "Epoch 55, CIFAR-10 Batch 4:  Loss:     0.3239 Validation Accuracy: 0.632600\n",
      "Epoch 55, CIFAR-10 Batch 5:  Loss:     0.2607 Validation Accuracy: 0.616800\n",
      "Epoch 56, CIFAR-10 Batch 1:  Loss:     0.2653 Validation Accuracy: 0.633200\n",
      "Epoch 56, CIFAR-10 Batch 2:  Loss:     0.1853 Validation Accuracy: 0.627600\n",
      "Epoch 56, CIFAR-10 Batch 3:  Loss:     0.2248 Validation Accuracy: 0.622800\n",
      "Epoch 56, CIFAR-10 Batch 4:  Loss:     0.3179 Validation Accuracy: 0.626400\n",
      "Epoch 56, CIFAR-10 Batch 5:  Loss:     0.2756 Validation Accuracy: 0.620800\n",
      "Epoch 57, CIFAR-10 Batch 1:  Loss:     0.2668 Validation Accuracy: 0.631800\n",
      "Epoch 57, CIFAR-10 Batch 2:  Loss:     0.1700 Validation Accuracy: 0.629400\n",
      "Epoch 57, CIFAR-10 Batch 3:  Loss:     0.2173 Validation Accuracy: 0.612200\n",
      "Epoch 57, CIFAR-10 Batch 4:  Loss:     0.2987 Validation Accuracy: 0.616200\n",
      "Epoch 57, CIFAR-10 Batch 5:  Loss:     0.2570 Validation Accuracy: 0.627800\n",
      "Epoch 58, CIFAR-10 Batch 1:  Loss:     0.3081 Validation Accuracy: 0.624600\n",
      "Epoch 58, CIFAR-10 Batch 2:  Loss:     0.1746 Validation Accuracy: 0.626400\n",
      "Epoch 58, CIFAR-10 Batch 3:  Loss:     0.1956 Validation Accuracy: 0.622400\n",
      "Epoch 58, CIFAR-10 Batch 4:  Loss:     0.3828 Validation Accuracy: 0.599000\n",
      "Epoch 58, CIFAR-10 Batch 5:  Loss:     0.2372 Validation Accuracy: 0.633000\n",
      "Epoch 59, CIFAR-10 Batch 1:  Loss:     0.2484 Validation Accuracy: 0.637800\n",
      "Epoch 59, CIFAR-10 Batch 2:  Loss:     0.1528 Validation Accuracy: 0.637000\n",
      "Epoch 59, CIFAR-10 Batch 3:  Loss:     0.2040 Validation Accuracy: 0.628000\n",
      "Epoch 59, CIFAR-10 Batch 4:  Loss:     0.3489 Validation Accuracy: 0.616800\n",
      "Epoch 59, CIFAR-10 Batch 5:  Loss:     0.2236 Validation Accuracy: 0.623600\n",
      "Epoch 60, CIFAR-10 Batch 1:  Loss:     0.2418 Validation Accuracy: 0.625400\n",
      "Epoch 60, CIFAR-10 Batch 2:  Loss:     0.1406 Validation Accuracy: 0.632800\n",
      "Epoch 60, CIFAR-10 Batch 3:  Loss:     0.2016 Validation Accuracy: 0.621200\n",
      "Epoch 60, CIFAR-10 Batch 4:  Loss:     0.3104 Validation Accuracy: 0.622800\n",
      "Epoch 60, CIFAR-10 Batch 5:  Loss:     0.2356 Validation Accuracy: 0.623000\n",
      "Epoch 61, CIFAR-10 Batch 1:  Loss:     0.2479 Validation Accuracy: 0.629200\n",
      "Epoch 61, CIFAR-10 Batch 2:  Loss:     0.1432 Validation Accuracy: 0.629200\n",
      "Epoch 61, CIFAR-10 Batch 3:  Loss:     0.1734 Validation Accuracy: 0.627000\n",
      "Epoch 61, CIFAR-10 Batch 4:  Loss:     0.2996 Validation Accuracy: 0.624000\n",
      "Epoch 61, CIFAR-10 Batch 5:  Loss:     0.2511 Validation Accuracy: 0.629000\n",
      "Epoch 62, CIFAR-10 Batch 1:  Loss:     0.2714 Validation Accuracy: 0.629400\n",
      "Epoch 62, CIFAR-10 Batch 2:  Loss:     0.1541 Validation Accuracy: 0.627400\n",
      "Epoch 62, CIFAR-10 Batch 3:  Loss:     0.1706 Validation Accuracy: 0.633400\n",
      "Epoch 62, CIFAR-10 Batch 4:  Loss:     0.2926 Validation Accuracy: 0.614200\n",
      "Epoch 62, CIFAR-10 Batch 5:  Loss:     0.2112 Validation Accuracy: 0.631400\n",
      "Epoch 63, CIFAR-10 Batch 1:  Loss:     0.2409 Validation Accuracy: 0.625000\n",
      "Epoch 63, CIFAR-10 Batch 2:  Loss:     0.1378 Validation Accuracy: 0.630200\n",
      "Epoch 63, CIFAR-10 Batch 3:  Loss:     0.1981 Validation Accuracy: 0.625200\n",
      "Epoch 63, CIFAR-10 Batch 4:  Loss:     0.3024 Validation Accuracy: 0.615200\n",
      "Epoch 63, CIFAR-10 Batch 5:  Loss:     0.2357 Validation Accuracy: 0.625000\n",
      "Epoch 64, CIFAR-10 Batch 1:  Loss:     0.2080 Validation Accuracy: 0.626400\n",
      "Epoch 64, CIFAR-10 Batch 2:  Loss:     0.1094 Validation Accuracy: 0.627200\n",
      "Epoch 64, CIFAR-10 Batch 3:  Loss:     0.1649 Validation Accuracy: 0.628800\n",
      "Epoch 64, CIFAR-10 Batch 4:  Loss:     0.2554 Validation Accuracy: 0.617000\n",
      "Epoch 64, CIFAR-10 Batch 5:  Loss:     0.2320 Validation Accuracy: 0.626600\n",
      "Epoch 65, CIFAR-10 Batch 1:  Loss:     0.2174 Validation Accuracy: 0.624000\n",
      "Epoch 65, CIFAR-10 Batch 2:  Loss:     0.1115 Validation Accuracy: 0.614800\n",
      "Epoch 65, CIFAR-10 Batch 3:  Loss:     0.1699 Validation Accuracy: 0.625000\n",
      "Epoch 65, CIFAR-10 Batch 4:  Loss:     0.2531 Validation Accuracy: 0.613000\n",
      "Epoch 65, CIFAR-10 Batch 5:  Loss:     0.2208 Validation Accuracy: 0.625200\n",
      "Epoch 66, CIFAR-10 Batch 1:  Loss:     0.2252 Validation Accuracy: 0.618200\n",
      "Epoch 66, CIFAR-10 Batch 2:  Loss:     0.1008 Validation Accuracy: 0.626800\n",
      "Epoch 66, CIFAR-10 Batch 3:  Loss:     0.1447 Validation Accuracy: 0.627400\n",
      "Epoch 66, CIFAR-10 Batch 4:  Loss:     0.2655 Validation Accuracy: 0.615200\n",
      "Epoch 66, CIFAR-10 Batch 5:  Loss:     0.2020 Validation Accuracy: 0.634000\n",
      "Epoch 67, CIFAR-10 Batch 1:  Loss:     0.2037 Validation Accuracy: 0.617600\n",
      "Epoch 67, CIFAR-10 Batch 2:  Loss:     0.1155 Validation Accuracy: 0.626600\n",
      "Epoch 67, CIFAR-10 Batch 3:  Loss:     0.1416 Validation Accuracy: 0.629400\n",
      "Epoch 67, CIFAR-10 Batch 4:  Loss:     0.2481 Validation Accuracy: 0.619800\n",
      "Epoch 67, CIFAR-10 Batch 5:  Loss:     0.1905 Validation Accuracy: 0.625000\n",
      "Epoch 68, CIFAR-10 Batch 1:  Loss:     0.2377 Validation Accuracy: 0.618000\n",
      "Epoch 68, CIFAR-10 Batch 2:  Loss:     0.0814 Validation Accuracy: 0.623000\n",
      "Epoch 68, CIFAR-10 Batch 3:  Loss:     0.1526 Validation Accuracy: 0.630400\n",
      "Epoch 68, CIFAR-10 Batch 4:  Loss:     0.2554 Validation Accuracy: 0.614000\n",
      "Epoch 68, CIFAR-10 Batch 5:  Loss:     0.1771 Validation Accuracy: 0.633800\n",
      "Epoch 69, CIFAR-10 Batch 1:  Loss:     0.2002 Validation Accuracy: 0.620400\n",
      "Epoch 69, CIFAR-10 Batch 2:  Loss:     0.0918 Validation Accuracy: 0.629600\n",
      "Epoch 69, CIFAR-10 Batch 3:  Loss:     0.1380 Validation Accuracy: 0.631200\n",
      "Epoch 69, CIFAR-10 Batch 4:  Loss:     0.2234 Validation Accuracy: 0.620600\n",
      "Epoch 69, CIFAR-10 Batch 5:  Loss:     0.2136 Validation Accuracy: 0.624200\n",
      "Epoch 70, CIFAR-10 Batch 1:  Loss:     0.1979 Validation Accuracy: 0.618200\n",
      "Epoch 70, CIFAR-10 Batch 2:  Loss:     0.0966 Validation Accuracy: 0.626800\n",
      "Epoch 70, CIFAR-10 Batch 3:  Loss:     0.1184 Validation Accuracy: 0.634600\n",
      "Epoch 70, CIFAR-10 Batch 4:  Loss:     0.2356 Validation Accuracy: 0.613400\n",
      "Epoch 70, CIFAR-10 Batch 5:  Loss:     0.1713 Validation Accuracy: 0.629800\n",
      "Epoch 71, CIFAR-10 Batch 1:  Loss:     0.1761 Validation Accuracy: 0.616600\n",
      "Epoch 71, CIFAR-10 Batch 2:  Loss:     0.0753 Validation Accuracy: 0.625600\n",
      "Epoch 71, CIFAR-10 Batch 3:  Loss:     0.1352 Validation Accuracy: 0.621000\n",
      "Epoch 71, CIFAR-10 Batch 4:  Loss:     0.1908 Validation Accuracy: 0.620200\n",
      "Epoch 71, CIFAR-10 Batch 5:  Loss:     0.1692 Validation Accuracy: 0.625800\n",
      "Epoch 72, CIFAR-10 Batch 1:  Loss:     0.1686 Validation Accuracy: 0.621000\n",
      "Epoch 72, CIFAR-10 Batch 2:  Loss:     0.0760 Validation Accuracy: 0.625800\n",
      "Epoch 72, CIFAR-10 Batch 3:  Loss:     0.1305 Validation Accuracy: 0.636200\n",
      "Epoch 72, CIFAR-10 Batch 4:  Loss:     0.2277 Validation Accuracy: 0.616000\n",
      "Epoch 72, CIFAR-10 Batch 5:  Loss:     0.1826 Validation Accuracy: 0.625400\n",
      "Epoch 73, CIFAR-10 Batch 1:  Loss:     0.1712 Validation Accuracy: 0.609200\n",
      "Epoch 73, CIFAR-10 Batch 2:  Loss:     0.0561 Validation Accuracy: 0.619000\n",
      "Epoch 73, CIFAR-10 Batch 3:  Loss:     0.1427 Validation Accuracy: 0.630800\n",
      "Epoch 73, CIFAR-10 Batch 4:  Loss:     0.2137 Validation Accuracy: 0.613400\n",
      "Epoch 73, CIFAR-10 Batch 5:  Loss:     0.1938 Validation Accuracy: 0.627200\n",
      "Epoch 74, CIFAR-10 Batch 1:  Loss:     0.1550 Validation Accuracy: 0.606200\n",
      "Epoch 74, CIFAR-10 Batch 2:  Loss:     0.0845 Validation Accuracy: 0.622400\n",
      "Epoch 74, CIFAR-10 Batch 3:  Loss:     0.1658 Validation Accuracy: 0.631200\n",
      "Epoch 74, CIFAR-10 Batch 4:  Loss:     0.2069 Validation Accuracy: 0.624800\n",
      "Epoch 74, CIFAR-10 Batch 5:  Loss:     0.1499 Validation Accuracy: 0.640400\n",
      "Epoch 75, CIFAR-10 Batch 1:  Loss:     0.1911 Validation Accuracy: 0.603400\n",
      "Epoch 75, CIFAR-10 Batch 2:  Loss:     0.0817 Validation Accuracy: 0.630600\n",
      "Epoch 75, CIFAR-10 Batch 3:  Loss:     0.1273 Validation Accuracy: 0.635000\n",
      "Epoch 75, CIFAR-10 Batch 4:  Loss:     0.2295 Validation Accuracy: 0.613000\n",
      "Epoch 75, CIFAR-10 Batch 5:  Loss:     0.1511 Validation Accuracy: 0.625400\n"
     ]
    }
   ],
   "source": [
    "\"\"\"\n",
    "DON'T MODIFY ANYTHING IN THIS CELL\n",
    "\"\"\"\n",
    "save_model_path = './image_classification'\n",
    "\n",
    "print('Training...')\n",
    "with tf.Session() as sess:\n",
    "    # Initializing the variables\n",
    "    sess.run(tf.global_variables_initializer())\n",
    "    \n",
    "    # Training cycle\n",
    "    for epoch in range(epochs):\n",
    "        # Loop over all batches\n",
    "        n_batches = 5\n",
    "        for batch_i in range(1, n_batches + 1):\n",
    "            for batch_features, batch_labels in helper.load_preprocess_training_batch(batch_i, batch_size):\n",
    "                train_neural_network(sess, optimizer, keep_probability, batch_features, batch_labels)\n",
    "            print('Epoch {:>2}, CIFAR-10 Batch {}:  '.format(epoch + 1, batch_i), end='')\n",
    "            print_stats(sess, batch_features, batch_labels, cost, accuracy)\n",
    "            \n",
    "    # Save Model\n",
    "    saver = tf.train.Saver()\n",
    "    save_path = saver.save(sess, save_model_path)"
   ]
  },
  {
   "cell_type": "markdown",
   "metadata": {
    "deletable": true,
    "editable": true
   },
   "source": [
    "# Checkpoint\n",
    "The model has been saved to disk.\n",
    "## Test Model\n",
    "Test your model against the test dataset.  This will be your final accuracy. You should have an accuracy greater than 50%. If you don't, keep tweaking the model architecture and parameters."
   ]
  },
  {
   "cell_type": "code",
   "execution_count": 14,
   "metadata": {
    "collapsed": false,
    "deletable": true,
    "editable": true
   },
   "outputs": [
    {
     "name": "stdout",
     "output_type": "stream",
     "text": [
      "Testing Accuracy: 0.6196598101265823\n",
      "\n"
     ]
    },
    {
     "data": {
      "image/png": "[encoded data removed]",
      "text/plain": [
       "<matplotlib.figure.Figure at 0x7f596abdd4e0>"
      ]
     },
     "metadata": {
      "image/png": {
       "height": 319,
       "width": 355
      }
     },
     "output_type": "display_data"
    }
   ],
   "source": [
    "\"\"\"\n",
    "DON'T MODIFY ANYTHING IN THIS CELL\n",
    "\"\"\"\n",
    "%matplotlib inline\n",
    "%config InlineBackend.figure_format = 'retina'\n",
    "\n",
    "import tensorflow as tf\n",
    "import pickle\n",
    "import helper\n",
    "import random\n",
    "\n",
    "# Set batch size if not already set\n",
    "try:\n",
    "    if batch_size:\n",
    "        pass\n",
    "except NameError:\n",
    "    batch_size = 64\n",
    "\n",
    "save_model_path = './image_classification'\n",
    "n_samples = 4\n",
    "top_n_predictions = 3\n",
    "\n",
    "def test_model():\n",
    "    \"\"\"\n",
    "    Test the saved model against the test dataset\n",
    "    \"\"\"\n",
    "\n",
    "    test_features, test_labels = pickle.load(open('preprocess_test.p', mode='rb'))\n",
    "    loaded_graph = tf.Graph()\n",
    "\n",
    "    with tf.Session(graph=loaded_graph) as sess:\n",
    "        # Load model\n",
    "        loader = tf.train.import_meta_graph(save_model_path + '.meta')\n",
    "        loader.restore(sess, save_model_path)\n",
    "\n",
    "        # Get Tensors from loaded model\n",
    "        loaded_x = loaded_graph.get_tensor_by_name('x:0')\n",
    "        loaded_y = loaded_graph.get_tensor_by_name('y:0')\n",
    "        loaded_keep_prob = loaded_graph.get_tensor_by_name('keep_prob:0')\n",
    "        loaded_logits = loaded_graph.get_tensor_by_name('logits:0')\n",
    "        loaded_acc = loaded_graph.get_tensor_by_name('accuracy:0')\n",
    "        \n",
    "        # Get accuracy in batches for memory limitations\n",
    "        test_batch_acc_total = 0\n",
    "        test_batch_count = 0\n",
    "        \n",
    "        for test_feature_batch, test_label_batch in helper.batch_features_labels(test_features, test_labels, batch_size):\n",
    "            test_batch_acc_total += sess.run(\n",
    "                loaded_acc,\n",
    "                feed_dict={loaded_x: test_feature_batch, loaded_y: test_label_batch, loaded_keep_prob: 1.0})\n",
    "            test_batch_count += 1\n",
    "\n",
    "        print('Testing Accuracy: {}\\n'.format(test_batch_acc_total/test_batch_count))\n",
    "\n",
    "        # Print Random Samples\n",
    "        random_test_features, random_test_labels = tuple(zip(*random.sample(list(zip(test_features, test_labels)), n_samples)))\n",
    "        random_test_predictions = sess.run(\n",
    "            tf.nn.top_k(tf.nn.softmax(loaded_logits), top_n_predictions),\n",
    "            feed_dict={loaded_x: random_test_features, loaded_y: random_test_labels, loaded_keep_prob: 1.0})\n",
    "        helper.display_image_predictions(random_test_features, random_test_labels, random_test_predictions)\n",
    "\n",
    "\n",
    "test_model()"
   ]
  },
  {
   "cell_type": "markdown",
   "metadata": {
    "deletable": true,
    "editable": true
   },
   "source": [
    "## Why 50-80% Accuracy?\n",
    "You might be wondering why you can't get an accuracy any higher. First things first, 50% isn't bad for a simple CNN.  Pure guessing would get you 10% accuracy. However, you might notice people are getting scores [well above 80%](http://rodrigob.github.io/are_we_there_yet/build/classification_datasets_results.html#43494641522d3130).  That's because we haven't taught you all there is to know about neural networks. We still need to cover a few more techniques.\n",
    "## Submitting This Project\n",
    "When submitting this project, make sure to run all the cells before saving the notebook.  Save the notebook file as \"dlnd_image_classification.ipynb\" and save it as a HTML file under \"File\" -> \"Download as\".  Include the \"helper.py\" and \"problem_unittests.py\" files in your submission."
   ]
  }
 ],
 "metadata": {
  "anaconda-cloud": {},
  "kernelspec": {
   "display_name": "Python 3",
   "language": "python",
   "name": "python3"
  },
  "language_info": {
   "codemirror_mode": {
    "name": "ipython",
    "version": 3
   },
   "file_extension": ".py",
   "mimetype": "text/x-python",
   "name": "python",
   "nbconvert_exporter": "python",
   "pygments_lexer": "ipython3",
   "version": "3.5.3"
  }
 },
 "nbformat": 4,
 "nbformat_minor": 1
}
